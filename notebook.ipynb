{
 "cells": [
  {
   "cell_type": "code",
   "execution_count": 11,
   "metadata": {},
   "outputs": [
    {
     "name": "stdout",
     "output_type": "stream",
     "text": [
      "Feed items: 88\n",
      "\n"
     ]
    }
   ],
   "source": [
    "import feedparser\n",
    "import json\n",
    "\n",
    "\n",
    "# load sources.json file and loop through each source\n",
    "# with open(\"newscorpus/sources.json\") as f:\n",
    "#     data = json.load(f)\n",
    "#     for source in data:\n",
    "#         feed = feedparser.parse(source[\"url\"])\n",
    "#         print(source[\"name\"])\n",
    "#         print(f\"Feed items: {len(feed.entries)}\")\n",
    "#         print()\n",
    "url = \"https://www.bild.de/rssfeeds/vw-home/vw-home-16725562,sort=1,view=rss2.bild.xml\"\n",
    "feed = feedparser.parse(url)\n",
    "print(f\"Feed items: {len(feed.entries)}\")\n",
    "print()"
   ]
  },
  {
   "cell_type": "code",
   "execution_count": 13,
   "metadata": {},
   "outputs": [
    {
     "name": "stdout",
     "output_type": "stream",
     "text": [
      "{'author': 'Hendrik Deck',\n",
      " 'body': None,\n",
      " 'categories': [],\n",
      " 'comments': '',\n",
      " 'commentsbody': None,\n",
      " 'date': '2023-12-22 00:00:00.000000',\n",
      " 'description': 'Die Neuauflage des Traum-Duos in Florida. Sechs Jahre lang '\n",
      "                'gingen Luis Suarez (36) und Lionel Messi (36) beim FC '\n",
      "                'Barcelona auf Torejagd. Jetzt sind sie wieder vereint.',\n",
      " 'fingerprint': None,\n",
      " 'hostname': 'bild.de',\n",
      " 'id': None,\n",
      " 'image': 'https://images.bild.de/6585c83600997415a036d5dc/189981562f80f21e0b99bba05b49daeb,a81a9b12?w=1280',\n",
      " 'language': None,\n",
      " 'license': None,\n",
      " 'pagetype': 'article',\n",
      " 'raw_text': None,\n",
      " 'sitename': 'BILD',\n",
      " 'tags': ['Suárez Luis, Messi Lionel, FC Barcelona, spielertransfer, Inter '\n",
      "          'Miami CF, Graubrot, Fußball, SpoBi International, Major League '\n",
      "          'Soccer, no-sport-app, TorAlarm Top-News, Aufmacher-Bereich'],\n",
      " 'text': 'Dieser Wechsel freut einen besonders ...: Neuer Klub für Luis '\n",
      "         'Suarez!\\n'\n",
      "         'Die Neuauflage des Traum-Duos in Florida.\\n'\n",
      "         'Sechs Jahre lang gingen Luis Suarez (36) und Lionel Messi (36) beim '\n",
      "         'FC Barcelona gemeinsam auf Torejagd. Im Sommer 2023 wechselte der '\n",
      "         'Argentinien-Weltmeister – nach einer Zwischenstation bei PSG – zu '\n",
      "         'US-Klub Inter Miami. Jetzt ist offiziell: Kumpel Suarez folgt Messi '\n",
      "         'in die MLS.\\n'\n",
      "         'Luis Suarez: Comeback mit Lionel Messi!\\n'\n",
      "         'Wie Transfer-Guru Fabrizio Romano auf X zunächste verkündete, '\n",
      "         'wechselt der Uruguay-Knipser (137 Länderspiele) ablösefrei zu Inter '\n",
      "         'Miami und erhält einen Einjahresvertrag mit Option für eine weitere '\n",
      "         'Saison. Am Freitagnachmittag bestätigte Miami den Transfer '\n",
      "         'offiziell.\\n'\n",
      "         'Seit Januar 2023 hat Suarez beim brasilianischen Erstligaklub Gremio '\n",
      "         'Porto Alegre gespielt, zuvor spielte er in seiner Heimat Uruguay für '\n",
      "         'den Club Nacional. Die längste Zeite verbrachte der Stürmer-Star '\n",
      "         'allerdings in Barcelona (2014 bis 2020) – an der Seite von Amigo '\n",
      "         'Messi.\\n'\n",
      "         'Die beiden spielten in ihrer Karriere 258 Spiele zusammen, standen '\n",
      "         'dabei knapp 22.000 Minuten zusammen auf dem Rasen. Mit Barça '\n",
      "         'gewannen sie in der Saison 2014/2015 die Champions League, dazu '\n",
      "         'wurden sie zusammen fünfmal spanischer Meister und viermal '\n",
      "         'Pokalsieger.\\n'\n",
      "         'Jetzt sind die Kumpels also wieder vereint. Beide verbringen gerne '\n",
      "         'Urlaub zusammen, auch die jeweiligen Ehefrauen verstehen sich gut.\\n'\n",
      "         'In Miami trifft „El Pistolero“ nicht nur auf Messi, sondern auch auf '\n",
      "         'die Ex-Barça-Teamkollegen Jordi Alba (34) und Sergio Busquets (35). '\n",
      "         'Auch Trainer Gerardo Martino (61) ist ein ehemaliger Trainer der '\n",
      "         'Katalanen. Formt sich hier etwa ein Barcelona-All-Stars-Team?\\n'\n",
      "         'Brisant: Zur Saison 2020/21 hatte Suarez Barcelona verlassen und ist '\n",
      "         'zu Atletico Madrid gewechselt. Die Barça-Bosse hatten damals '\n",
      "         'entschieden, nicht mehr auf den Stürmer zu setzen. Zum Abschied '\n",
      "         'hatte sich der Uruguayer in den sozialen Medien von Messi '\n",
      "         'verabschiedet, schrieb damals: Ich liebe dich sehr, mein Freund, und '\n",
      "         'wir werden euch fünf (Messi, seine Frau und ihre drei Kinder, Anm. '\n",
      "         'd. Red.) vermissen.“\\n'\n",
      "         'Jetzt sind sie alle wieder vereint ...',\n",
      " 'title': 'Inter Miami: Ex-Barça-Star Luis Suarez wechselt zu Klub von Lionel '\n",
      "          'Messi',\n",
      " 'url': 'https://www.bild.de/sport/fussball/fussball-international/inter-miami-ex-bara-star-luis-suarez-wechselt-zu-klub-von-lionel-messi-86526196.bild.html'}\n"
     ]
    }
   ],
   "source": [
    "from pprint import pprint\n",
    "from trafilatura import fetch_url, bare_extraction, extract, extract_metadata\n",
    "from trafilatura.settings import DEFAULT_CONFIG\n",
    "from copy import deepcopy\n",
    "from fake_useragent import UserAgent\n",
    "\n",
    "my_config = deepcopy(DEFAULT_CONFIG)\n",
    "my_config[\"DEFAULT\"][\"USER_AGENTS\"] = UserAgent().random\n",
    "\n",
    "\n",
    "# mylist = feeds.find_feed_urls(\"https://www.spiegel.de/schlagzeilen/index.rss\")\n",
    "# print(f\"Feed items: {len(mylist)}\")\n",
    "# print(mylist)\n",
    "\n",
    "url = \"https://www.bild.de/sport/fussball/fussball-international/inter-miami-ex-bara-star-luis-suarez-wechselt-zu-klub-von-lionel-messi-86526196.bild.html\"\n",
    "downloaded = fetch_url(url, config=my_config)\n",
    "\n",
    "if not downloaded:\n",
    "    print(\"Could not download URL\")\n",
    "else:\n",
    "    result = bare_extraction(\n",
    "        downloaded,\n",
    "        only_with_metadata=True,\n",
    "        date_extraction_params={\"outputformat\": \"%Y-%m-%d %H:%M:%S.%f\"},\n",
    "        url=url,\n",
    "    )\n",
    "    pprint(result)"
   ]
  }
 ],
 "metadata": {
  "kernelspec": {
   "display_name": ".venv",
   "language": "python",
   "name": "python3"
  },
  "language_info": {
   "codemirror_mode": {
    "name": "ipython",
    "version": 3
   },
   "file_extension": ".py",
   "mimetype": "text/x-python",
   "name": "python",
   "nbconvert_exporter": "python",
   "pygments_lexer": "ipython3",
   "version": "3.11.3"
  }
 },
 "nbformat": 4,
 "nbformat_minor": 2
}
